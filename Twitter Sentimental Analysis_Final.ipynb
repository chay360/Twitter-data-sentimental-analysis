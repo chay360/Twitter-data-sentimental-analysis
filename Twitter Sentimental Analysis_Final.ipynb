{
 "cells": [
  {
   "cell_type": "markdown",
   "metadata": {},
   "source": [
    "# Query based Sentiment Analysis using Python"
   ]
  },
  {
   "cell_type": "code",
   "execution_count": 1,
   "metadata": {},
   "outputs": [],
   "source": [
    "# General:\n",
    "import tweepy           # To consume Twitter's API\n",
    "import pandas as pd     # To handle data\n",
    "import numpy as np      # For number computing\n",
    "\n",
    "# For plotting and visualization:\n",
    "from IPython.display import display\n",
    "import matplotlib.pyplot as plt\n",
    "import seaborn as sns\n",
    "%matplotlib inline"
   ]
  },
  {
   "cell_type": "markdown",
   "metadata": {},
   "source": [
    "# Creating a Twitter App"
   ]
  },
  {
   "cell_type": "code",
   "execution_count": 2,
   "metadata": {},
   "outputs": [],
   "source": [
    "# Twitter App access keys for @user\n",
    "\n",
    "# Consume:\n",
    "CONSUMER_KEY    = 'yzxNyCyjkVJJrpNY0L3AphSVV'\n",
    "CONSUMER_SECRET = 'e7xhbuIqTM520PCtwGrSrSIXWyrQbH7ckr9s0ToOlQE6tek4OP'\n",
    "\n",
    "# Access:\n",
    "ACCESS_TOKEN  = '2186056028-BPexxHqPrML7hcvwIuLfX3itD8IZPqguuksDHtn'\n",
    "ACCESS_SECRET = 'vvhbgIqa7jK5nBAO9P4Mh1MTFvJdWH3Fl5bbzGhai9Dah'"
   ]
  },
  {
   "cell_type": "code",
   "execution_count": 3,
   "metadata": {},
   "outputs": [],
   "source": [
    "# We import our access keys:\n",
    "from credentials import *    # This will allow us to use the keys as variables\n",
    "\n",
    "# API's setup:\n",
    "def twitter_setup():\n",
    "    \n",
    "    # Authentication and access using keys:\n",
    "    auth = tweepy.OAuthHandler(CONSUMER_KEY, CONSUMER_SECRET)\n",
    "    auth.set_access_token(ACCESS_TOKEN, ACCESS_SECRET)\n",
    "\n",
    "    # Return API with authentication:\n",
    "    api = tweepy.API(auth)\n",
    "    return api"
   ]
  },
  {
   "cell_type": "code",
   "execution_count": 4,
   "metadata": {},
   "outputs": [
    {
     "name": "stdout",
     "output_type": "stream",
     "text": [
      "#Worlds2019\n",
      "#グランメゾン東京\n",
      "#اندريه_العملاق\n",
      "#RemembranceSunday\n",
      "#eleccionesgenerales10N\n",
      "ヴァリサ\n",
      "True Damage\n",
      "もりのくに\n",
      "的場梨沙\n",
      "TRFのライブ\n",
      "따뜻한 우유\n",
      "デジモン\n",
      "Spin-off\n",
      "Doinb\n",
      "#Elecciones10N\n",
      "#ヤマトイオリ\n",
      "#MesaCentral\n",
      "#CagliariFiorentina\n",
      "#BRAxCHI\n",
      "#マイナー好み描写選手権\n",
      "#KPOPFESTAinBKK\n",
      "#AskAsh\n",
      "#リアル野球BAN\n",
      "#FelizDomingo\n",
      "#BesokSenin\n",
      "#ShopeeGFRIENDTVShow\n",
      "#ajautr\n",
      "#10Kasim1938\n",
      "#LoveShines\n",
      "#ホロライブ杯\n",
      "#G2ARMY\n",
      "#LIVMCI\n",
      "#本当にあなたは人間なのか\n",
      "#ArashiJETSTORMinBKK\n",
      "#ForWonho\n",
      "#melody_flag\n",
      "#Marche10Novembre\n",
      "#MUNBHA\n",
      "#SooraraiPottruFirstLook\n",
      "#あなたが推している3人をあてる\n",
      "#GoUSTe\n",
      "#おしゃれイズム\n",
      "#KnowMuhammad\n",
      "#いい銃の日\n",
      "#とんねるずのスポーツ王は俺だ\n",
      "#いだてん最高じゃんねぇ\n",
      "#AthleticLevanteEnGol\n",
      "#fujitwoSJDE\n",
      "#BMGSVW\n",
      "#Jinyoung_Meltingmesoftly\n"
     ]
    }
   ],
   "source": [
    "extractor = twitter_setup()\n",
    "trends1 = extractor.trends_place(1) # from the end of your code\n",
    "# trends1 is a list with only one element in it, which is a \n",
    "# dict which we'll put in data.\n",
    "data = trends1[0] \n",
    "# grab the trends\n",
    "trends = data['trends']\n",
    "# grab the name from each trend\n",
    "names = [trend['name'] for trend in trends]\n",
    "# put all the names together with a ' ' separating them\n",
    "trendsName = \"\\n\".join(names)\n",
    "print(trendsName)"
   ]
  },
  {
   "cell_type": "code",
   "execution_count": 5,
   "metadata": {},
   "outputs": [],
   "source": [
    "query=\"ayodhya\" # Enter user or query"
   ]
  },
  {
   "cell_type": "code",
   "execution_count": 6,
   "metadata": {},
   "outputs": [
    {
     "name": "stdout",
     "output_type": "stream",
     "text": [
      "Number of tweets extracted: 100.\n",
      "\n",
      "5 recent tweets:\n",
      "\n",
      "RT @GitaSKapoor: Sikhs fought against Mughals to save Ram Janmabhoomi in Ayodhya. - \n",
      "Nihang Sikhs along with the Sadhus fought fiercely aga…\n",
      "\n",
      "RT @mvmeet: Kashmiri youth Aakib Mir gives a befitting reply\n",
      "\n",
      "To the venomous statement of Asaduddin Owaisi against Supreme Court's Ayodhya…\n",
      "\n",
      "RT @satishacharya: Ayodhya verdict! @sifydotcom cartoon #AyodhyaVerdict https://t.co/QFrggZz1zv\n",
      "\n",
      "RT @anshikashukla_: \"According to the Union Culture Ministry, the new Ayodhya plan also envisages a Ram Museum in the city, which will hous…\n",
      "\n",
      "RT @madhukishwar: Vadra Family run National Herald living up to #NehruvianDhiimitude--calling Ayodhya - a land cursed by Sita. And question…\n",
      "\n"
     ]
    }
   ],
   "source": [
    "# We create an extractor object:\n",
    "extractor = twitter_setup()\n",
    "\n",
    "# We create a tweet list based on query:\n",
    "tweets = extractor.search(q=query, count=10000)\n",
    "\n",
    "# We create a tweet list based on user\n",
    "#tweets = extractor.user_timeline(screen_name=query, count=100)\n",
    "\n",
    "print(\"Number of tweets extracted: {}.\\n\".format(len(tweets)))\n",
    "\n",
    "# We print the most recent 5 tweets:\n",
    "print(\"5 recent tweets:\\n\")\n",
    "for tweet in tweets[:5]:\n",
    "    print(tweet.text)\n",
    "    print()"
   ]
  },
  {
   "cell_type": "code",
   "execution_count": 7,
   "metadata": {},
   "outputs": [
    {
     "data": {
      "text/html": [
       "<div>\n",
       "<style scoped>\n",
       "    .dataframe tbody tr th:only-of-type {\n",
       "        vertical-align: middle;\n",
       "    }\n",
       "\n",
       "    .dataframe tbody tr th {\n",
       "        vertical-align: top;\n",
       "    }\n",
       "\n",
       "    .dataframe thead th {\n",
       "        text-align: right;\n",
       "    }\n",
       "</style>\n",
       "<table border=\"1\" class=\"dataframe\">\n",
       "  <thead>\n",
       "    <tr style=\"text-align: right;\">\n",
       "      <th></th>\n",
       "      <th>Tweets</th>\n",
       "    </tr>\n",
       "  </thead>\n",
       "  <tbody>\n",
       "    <tr>\n",
       "      <td>0</td>\n",
       "      <td>RT @GitaSKapoor: Sikhs fought against Mughals ...</td>\n",
       "    </tr>\n",
       "    <tr>\n",
       "      <td>1</td>\n",
       "      <td>RT @mvmeet: Kashmiri youth Aakib Mir gives a b...</td>\n",
       "    </tr>\n",
       "    <tr>\n",
       "      <td>2</td>\n",
       "      <td>RT @satishacharya: Ayodhya verdict! @sifydotco...</td>\n",
       "    </tr>\n",
       "    <tr>\n",
       "      <td>3</td>\n",
       "      <td>RT @anshikashukla_: \"According to the Union Cu...</td>\n",
       "    </tr>\n",
       "    <tr>\n",
       "      <td>4</td>\n",
       "      <td>RT @madhukishwar: Vadra Family run National He...</td>\n",
       "    </tr>\n",
       "    <tr>\n",
       "      <td>5</td>\n",
       "      <td>RT @TimesNow: India hails unanimous Ayodhya ve...</td>\n",
       "    </tr>\n",
       "    <tr>\n",
       "      <td>6</td>\n",
       "      <td>RT @_YogendraYadav: Faizan Mustafa, a law prof...</td>\n",
       "    </tr>\n",
       "    <tr>\n",
       "      <td>7</td>\n",
       "      <td>India doesn't need any new temple, church, mos...</td>\n",
       "    </tr>\n",
       "    <tr>\n",
       "      <td>8</td>\n",
       "      <td>RT @SirJadeja: ✅before Ayodhya verdict\\n\"I am ...</td>\n",
       "    </tr>\n",
       "    <tr>\n",
       "      <td>9</td>\n",
       "      <td>RT @kapil73vats: I am a Hindu\\nI request Modi ...</td>\n",
       "    </tr>\n",
       "  </tbody>\n",
       "</table>\n",
       "</div>"
      ],
      "text/plain": [
       "                                              Tweets\n",
       "0  RT @GitaSKapoor: Sikhs fought against Mughals ...\n",
       "1  RT @mvmeet: Kashmiri youth Aakib Mir gives a b...\n",
       "2  RT @satishacharya: Ayodhya verdict! @sifydotco...\n",
       "3  RT @anshikashukla_: \"According to the Union Cu...\n",
       "4  RT @madhukishwar: Vadra Family run National He...\n",
       "5  RT @TimesNow: India hails unanimous Ayodhya ve...\n",
       "6  RT @_YogendraYadav: Faizan Mustafa, a law prof...\n",
       "7  India doesn't need any new temple, church, mos...\n",
       "8  RT @SirJadeja: ✅before Ayodhya verdict\\n\"I am ...\n",
       "9  RT @kapil73vats: I am a Hindu\\nI request Modi ..."
      ]
     },
     "metadata": {},
     "output_type": "display_data"
    }
   ],
   "source": [
    "# We create a pandas dataframe as follows:\n",
    "data = pd.DataFrame(data=[tweet.text for tweet in tweets], columns=['Tweets'])\n",
    "\n",
    "# We display the first 10 elements of the dataframe:\n",
    "display(data.head(10))"
   ]
  },
  {
   "cell_type": "code",
   "execution_count": 8,
   "metadata": {},
   "outputs": [
    {
     "name": "stdout",
     "output_type": "stream",
     "text": [
      "['__class__', '__delattr__', '__dict__', '__dir__', '__doc__', '__eq__', '__format__', '__ge__', '__getattribute__', '__getstate__', '__gt__', '__hash__', '__init__', '__init_subclass__', '__le__', '__lt__', '__module__', '__ne__', '__new__', '__reduce__', '__reduce_ex__', '__repr__', '__setattr__', '__sizeof__', '__str__', '__subclasshook__', '__weakref__', '_api', '_json', 'author', 'contributors', 'coordinates', 'created_at', 'destroy', 'entities', 'favorite', 'favorite_count', 'favorited', 'geo', 'id', 'id_str', 'in_reply_to_screen_name', 'in_reply_to_status_id', 'in_reply_to_status_id_str', 'in_reply_to_user_id', 'in_reply_to_user_id_str', 'is_quote_status', 'lang', 'metadata', 'parse', 'parse_list', 'place', 'retweet', 'retweet_count', 'retweeted', 'retweeted_status', 'retweets', 'source', 'source_url', 'text', 'truncated', 'user']\n"
     ]
    }
   ],
   "source": [
    "# Internal methods of a single tweet object:\n",
    "print(dir(tweets[0]))"
   ]
  },
  {
   "cell_type": "markdown",
   "metadata": {},
   "source": [
    "# Adding relevant info to our dataframe"
   ]
  },
  {
   "cell_type": "code",
   "execution_count": 9,
   "metadata": {},
   "outputs": [],
   "source": [
    "# We add relevant data:\n",
    "data['len']  = np.array([len(tweet.text) for tweet in tweets])\n",
    "data['ID']   = np.array([tweet.id for tweet in tweets])\n",
    "data['Date'] = np.array([tweet.created_at for tweet in tweets])\n",
    "data['Source'] = np.array([tweet.source for tweet in tweets])\n",
    "data['Likes']  = np.array([tweet.favorite_count for tweet in tweets])\n",
    "data['RTs']    = np.array([tweet.retweet_count for tweet in tweets])\n",
    "data['Language'] = np.array([tweet.lang for tweet in tweets])\n"
   ]
  },
  {
   "cell_type": "code",
   "execution_count": 10,
   "metadata": {},
   "outputs": [
    {
     "data": {
      "text/html": [
       "<div>\n",
       "<style scoped>\n",
       "    .dataframe tbody tr th:only-of-type {\n",
       "        vertical-align: middle;\n",
       "    }\n",
       "\n",
       "    .dataframe tbody tr th {\n",
       "        vertical-align: top;\n",
       "    }\n",
       "\n",
       "    .dataframe thead th {\n",
       "        text-align: right;\n",
       "    }\n",
       "</style>\n",
       "<table border=\"1\" class=\"dataframe\">\n",
       "  <thead>\n",
       "    <tr style=\"text-align: right;\">\n",
       "      <th></th>\n",
       "      <th>Tweets</th>\n",
       "      <th>len</th>\n",
       "      <th>ID</th>\n",
       "      <th>Date</th>\n",
       "      <th>Source</th>\n",
       "      <th>Likes</th>\n",
       "      <th>RTs</th>\n",
       "      <th>Language</th>\n",
       "    </tr>\n",
       "  </thead>\n",
       "  <tbody>\n",
       "    <tr>\n",
       "      <td>0</td>\n",
       "      <td>RT @GitaSKapoor: Sikhs fought against Mughals ...</td>\n",
       "      <td>140</td>\n",
       "      <td>1193524654893236224</td>\n",
       "      <td>2019-11-10 13:43:46</td>\n",
       "      <td>Twitter for Android</td>\n",
       "      <td>0</td>\n",
       "      <td>1133</td>\n",
       "      <td>en</td>\n",
       "    </tr>\n",
       "    <tr>\n",
       "      <td>1</td>\n",
       "      <td>RT @mvmeet: Kashmiri youth Aakib Mir gives a b...</td>\n",
       "      <td>140</td>\n",
       "      <td>1193524648710770688</td>\n",
       "      <td>2019-11-10 13:43:45</td>\n",
       "      <td>Twitter for Android</td>\n",
       "      <td>0</td>\n",
       "      <td>87</td>\n",
       "      <td>en</td>\n",
       "    </tr>\n",
       "    <tr>\n",
       "      <td>2</td>\n",
       "      <td>RT @satishacharya: Ayodhya verdict! @sifydotco...</td>\n",
       "      <td>95</td>\n",
       "      <td>1193524648694046721</td>\n",
       "      <td>2019-11-10 13:43:45</td>\n",
       "      <td>Twitter for iPhone</td>\n",
       "      <td>0</td>\n",
       "      <td>332</td>\n",
       "      <td>in</td>\n",
       "    </tr>\n",
       "    <tr>\n",
       "      <td>3</td>\n",
       "      <td>RT @anshikashukla_: \"According to the Union Cu...</td>\n",
       "      <td>140</td>\n",
       "      <td>1193524646143938561</td>\n",
       "      <td>2019-11-10 13:43:44</td>\n",
       "      <td>Twitter for iPhone</td>\n",
       "      <td>0</td>\n",
       "      <td>48</td>\n",
       "      <td>en</td>\n",
       "    </tr>\n",
       "    <tr>\n",
       "      <td>4</td>\n",
       "      <td>RT @madhukishwar: Vadra Family run National He...</td>\n",
       "      <td>140</td>\n",
       "      <td>1193524645527343104</td>\n",
       "      <td>2019-11-10 13:43:44</td>\n",
       "      <td>Twitter for Android</td>\n",
       "      <td>0</td>\n",
       "      <td>673</td>\n",
       "      <td>en</td>\n",
       "    </tr>\n",
       "    <tr>\n",
       "      <td>5</td>\n",
       "      <td>RT @TimesNow: India hails unanimous Ayodhya ve...</td>\n",
       "      <td>144</td>\n",
       "      <td>1193524644067893250</td>\n",
       "      <td>2019-11-10 13:43:44</td>\n",
       "      <td>Twitter for Android</td>\n",
       "      <td>0</td>\n",
       "      <td>2</td>\n",
       "      <td>et</td>\n",
       "    </tr>\n",
       "    <tr>\n",
       "      <td>6</td>\n",
       "      <td>RT @_YogendraYadav: Faizan Mustafa, a law prof...</td>\n",
       "      <td>140</td>\n",
       "      <td>1193524643736408064</td>\n",
       "      <td>2019-11-10 13:43:44</td>\n",
       "      <td>Twitter for Android</td>\n",
       "      <td>0</td>\n",
       "      <td>2086</td>\n",
       "      <td>en</td>\n",
       "    </tr>\n",
       "    <tr>\n",
       "      <td>7</td>\n",
       "      <td>India doesn't need any new temple, church, mos...</td>\n",
       "      <td>122</td>\n",
       "      <td>1193524642104758272</td>\n",
       "      <td>2019-11-10 13:43:43</td>\n",
       "      <td>Twitter Web Client</td>\n",
       "      <td>0</td>\n",
       "      <td>0</td>\n",
       "      <td>en</td>\n",
       "    </tr>\n",
       "    <tr>\n",
       "      <td>8</td>\n",
       "      <td>RT @SirJadeja: ✅before Ayodhya verdict\\n\"I am ...</td>\n",
       "      <td>140</td>\n",
       "      <td>1193524641681162240</td>\n",
       "      <td>2019-11-10 13:43:43</td>\n",
       "      <td>Twitter for Android</td>\n",
       "      <td>0</td>\n",
       "      <td>804</td>\n",
       "      <td>in</td>\n",
       "    </tr>\n",
       "    <tr>\n",
       "      <td>9</td>\n",
       "      <td>RT @kapil73vats: I am a Hindu\\nI request Modi ...</td>\n",
       "      <td>140</td>\n",
       "      <td>1193524640968146944</td>\n",
       "      <td>2019-11-10 13:43:43</td>\n",
       "      <td>Twitter for Android</td>\n",
       "      <td>0</td>\n",
       "      <td>4</td>\n",
       "      <td>und</td>\n",
       "    </tr>\n",
       "  </tbody>\n",
       "</table>\n",
       "</div>"
      ],
      "text/plain": [
       "                                              Tweets  len  \\\n",
       "0  RT @GitaSKapoor: Sikhs fought against Mughals ...  140   \n",
       "1  RT @mvmeet: Kashmiri youth Aakib Mir gives a b...  140   \n",
       "2  RT @satishacharya: Ayodhya verdict! @sifydotco...   95   \n",
       "3  RT @anshikashukla_: \"According to the Union Cu...  140   \n",
       "4  RT @madhukishwar: Vadra Family run National He...  140   \n",
       "5  RT @TimesNow: India hails unanimous Ayodhya ve...  144   \n",
       "6  RT @_YogendraYadav: Faizan Mustafa, a law prof...  140   \n",
       "7  India doesn't need any new temple, church, mos...  122   \n",
       "8  RT @SirJadeja: ✅before Ayodhya verdict\\n\"I am ...  140   \n",
       "9  RT @kapil73vats: I am a Hindu\\nI request Modi ...  140   \n",
       "\n",
       "                    ID                Date               Source  Likes   RTs  \\\n",
       "0  1193524654893236224 2019-11-10 13:43:46  Twitter for Android      0  1133   \n",
       "1  1193524648710770688 2019-11-10 13:43:45  Twitter for Android      0    87   \n",
       "2  1193524648694046721 2019-11-10 13:43:45   Twitter for iPhone      0   332   \n",
       "3  1193524646143938561 2019-11-10 13:43:44   Twitter for iPhone      0    48   \n",
       "4  1193524645527343104 2019-11-10 13:43:44  Twitter for Android      0   673   \n",
       "5  1193524644067893250 2019-11-10 13:43:44  Twitter for Android      0     2   \n",
       "6  1193524643736408064 2019-11-10 13:43:44  Twitter for Android      0  2086   \n",
       "7  1193524642104758272 2019-11-10 13:43:43   Twitter Web Client      0     0   \n",
       "8  1193524641681162240 2019-11-10 13:43:43  Twitter for Android      0   804   \n",
       "9  1193524640968146944 2019-11-10 13:43:43  Twitter for Android      0     4   \n",
       "\n",
       "  Language  \n",
       "0       en  \n",
       "1       en  \n",
       "2       in  \n",
       "3       en  \n",
       "4       en  \n",
       "5       et  \n",
       "6       en  \n",
       "7       en  \n",
       "8       in  \n",
       "9      und  "
      ]
     },
     "metadata": {},
     "output_type": "display_data"
    }
   ],
   "source": [
    "# Display of first 10 elements from dataframe:\n",
    "display(data.head(10))"
   ]
  },
  {
   "cell_type": "code",
   "execution_count": 11,
   "metadata": {},
   "outputs": [
    {
     "name": "stdout",
     "output_type": "stream",
     "text": [
      "The lenght's average in tweets: 131.17\n"
     ]
    }
   ],
   "source": [
    "# We extract the mean of lenghts:\n",
    "mean = np.mean(data['len'])\n",
    "\n",
    "print(\"The lenght's average in tweets: {}\".format(mean))"
   ]
  },
  {
   "cell_type": "code",
   "execution_count": 12,
   "metadata": {},
   "outputs": [
    {
     "data": {
      "text/plain": [
       "<matplotlib.axes._subplots.AxesSubplot at 0x7f9e4af03128>"
      ]
     },
     "execution_count": 12,
     "metadata": {},
     "output_type": "execute_result"
    },
    {
     "data": {
      "image/png": "[encoded data removed]",
      "text/plain": [
       "<Figure size 432x288 with 1 Axes>"
      ]
     },
     "metadata": {
      "needs_background": "light"
     },
     "output_type": "display_data"
    }
   ],
   "source": [
    "tweets_by_lang = data['Language'].value_counts()\n",
    "\n",
    "fig, ax = plt.subplots()\n",
    "ax.tick_params(axis='x', labelsize=15)\n",
    "ax.tick_params(axis='y', labelsize=10)\n",
    "ax.set_xlabel('Languages', fontsize=15)\n",
    "ax.set_ylabel('Number of tweets' , fontsize=15)\n",
    "ax.set_title('Top 5 languages', fontsize=15, fontweight='bold')\n",
    "tweets_by_lang[:5].plot(ax=ax, kind='bar', color='red')"
   ]
  },
  {
   "cell_type": "code",
   "execution_count": 13,
   "metadata": {},
   "outputs": [
    {
     "name": "stdout",
     "output_type": "stream",
     "text": [
      "The tweet with more likes is: \n",
      "RT @GitaSKapoor: Sikhs fought against Mughals to save Ram Janmabhoomi in Ayodhya. - \n",
      "Nihang Sikhs along with the Sadhus fought fiercely aga…\n",
      "Number of likes: 0\n",
      "140 characters.\n",
      "\n",
      "The tweet with more retweets is: \n",
      "RT @UmarKhalidJNU: Govt of India wants all to respect the recent Supreme Court verdict on Ayodhya.\n",
      "\n",
      "I ask the Govt when is it going to resp…\n",
      "Number of retweets: 4257\n",
      "140 characters.\n",
      "\n"
     ]
    }
   ],
   "source": [
    "# We extract the tweet with more FAVs and more RTs:\n",
    "\n",
    "fav_max = np.max(data['Likes'])\n",
    "rt_max  = np.max(data['RTs'])\n",
    "\n",
    "fav = data[data.Likes == fav_max].index[0]\n",
    "rt  = data[data.RTs == rt_max].index[0]\n",
    "\n",
    "# Max FAVs:\n",
    "print(\"The tweet with more likes is: \\n{}\".format(data['Tweets'][fav]))\n",
    "print(\"Number of likes: {}\".format(fav_max))\n",
    "print(\"{} characters.\\n\".format(data['len'][fav]))\n",
    "\n",
    "# Max RTs:\n",
    "print(\"The tweet with more retweets is: \\n{}\".format(data['Tweets'][rt]))\n",
    "print(\"Number of retweets: {}\".format(rt_max))\n",
    "print(\"{} characters.\\n\".format(data['len'][rt]))"
   ]
  },
  {
   "cell_type": "markdown",
   "metadata": {},
   "source": [
    "# Time series of Tweets"
   ]
  },
  {
   "cell_type": "code",
   "execution_count": 14,
   "metadata": {},
   "outputs": [],
   "source": [
    "# We create time series for data:\n",
    "\n",
    "tlen = pd.Series(data=data['len'].values, index=data['Date'])\n",
    "tfav = pd.Series(data=data['Likes'].values, index=data['Date'])\n",
    "tret = pd.Series(data=data['RTs'].values, index=data['Date'])"
   ]
  },
  {
   "cell_type": "code",
   "execution_count": 15,
   "metadata": {},
   "outputs": [
    {
     "data": {
      "image/png": "[encoded data removed]",
      "text/plain": [
       "<Figure size 1152x288 with 1 Axes>"
      ]
     },
     "metadata": {
      "needs_background": "light"
     },
     "output_type": "display_data"
    }
   ],
   "source": [
    "# Lenghts along time:\n",
    "tlen.plot(figsize=(16,4), color='r');"
   ]
  },
  {
   "cell_type": "code",
   "execution_count": 16,
   "metadata": {},
   "outputs": [
    {
     "data": {
      "image/png": "[encoded data removed]",
      "text/plain": [
       "<Figure size 1152x288 with 1 Axes>"
      ]
     },
     "metadata": {
      "needs_background": "light"
     },
     "output_type": "display_data"
    }
   ],
   "source": [
    "# Likes vs retweets visualization:\n",
    "tfav.plot(figsize=(16,4), label=\"Likes\", legend=True)\n",
    "tret.plot(figsize=(16,4), label=\"Retweets\", legend=True);"
   ]
  },
  {
   "cell_type": "markdown",
   "metadata": {},
   "source": [
    "# Pie charts of sources"
   ]
  },
  {
   "cell_type": "code",
   "execution_count": 17,
   "metadata": {},
   "outputs": [
    {
     "name": "stdout",
     "output_type": "stream",
     "text": [
      "Creation of content sources:\n",
      "* Twitter for Android\n",
      "* Twitter for iPhone\n",
      "* Twitter Web Client\n",
      "* Twitter Web App\n",
      "* Twitter for iPad\n",
      "* Facebook\n"
     ]
    }
   ],
   "source": [
    "# We obtain all possible sources:\n",
    "sources = []\n",
    "for source in data['Source']:\n",
    "    if source not in sources:\n",
    "        sources.append(source)\n",
    "\n",
    "# We print sources list:\n",
    "print(\"Creation of content sources:\")\n",
    "for source in sources:\n",
    "    print(\"* {}\".format(source))"
   ]
  },
  {
   "cell_type": "code",
   "execution_count": 18,
   "metadata": {},
   "outputs": [
    {
     "data": {
      "image/png": "[encoded data removed]",
      "text/plain": [
       "<Figure size 720x576 with 1 Axes>"
      ]
     },
     "metadata": {},
     "output_type": "display_data"
    }
   ],
   "source": [
    "# We create a numpy vector mapped to labels:\n",
    "percent = np.zeros(len(sources))\n",
    "\n",
    "for source in data['Source']:\n",
    "    for index in range(len(sources)):\n",
    "        if source == sources[index]:\n",
    "            percent[index] += 1\n",
    "            pass\n",
    "\n",
    "percent /= 100\n",
    "\n",
    "# Pie chart:\n",
    "pie_chart = pd.Series(percent, index=sources, name='Sources')\n",
    "pie_chart.plot.pie(fontsize=11, autopct='%.2f', figsize=(10,8));"
   ]
  },
  {
   "cell_type": "markdown",
   "metadata": {},
   "source": [
    "# Sentiment analysis"
   ]
  },
  {
   "cell_type": "code",
   "execution_count": 19,
   "metadata": {},
   "outputs": [],
   "source": [
    "from textblob import TextBlob\n",
    "import re\n",
    "\n",
    "def clean_tweet(tweet):\n",
    "    '''\n",
    "    Utility function to clean the text in a tweet by removing \n",
    "    links and special characters using regex.\n",
    "    '''\n",
    "    return ' '.join(re.sub(\"(@[A-Za-z0-9]+)|([^0-9A-Za-z \\t])|(\\w+:\\/\\/\\S+)\", \" \", tweet).split())\n",
    "\n",
    "def analize_sentiment(tweet):\n",
    "    '''\n",
    "    Utility function to classify the polarity of a tweet\n",
    "    using textblob.\n",
    "    '''\n",
    "    analysis = TextBlob(clean_tweet(tweet))\n",
    "    if analysis.sentiment.polarity > 0:\n",
    "        return 1\n",
    "    elif analysis.sentiment.polarity == 0:\n",
    "        return 0\n",
    "    else:\n",
    "        return -1"
   ]
  },
  {
   "cell_type": "code",
   "execution_count": 20,
   "metadata": {},
   "outputs": [
    {
     "data": {
      "text/html": [
       "<div>\n",
       "<style scoped>\n",
       "    .dataframe tbody tr th:only-of-type {\n",
       "        vertical-align: middle;\n",
       "    }\n",
       "\n",
       "    .dataframe tbody tr th {\n",
       "        vertical-align: top;\n",
       "    }\n",
       "\n",
       "    .dataframe thead th {\n",
       "        text-align: right;\n",
       "    }\n",
       "</style>\n",
       "<table border=\"1\" class=\"dataframe\">\n",
       "  <thead>\n",
       "    <tr style=\"text-align: right;\">\n",
       "      <th></th>\n",
       "      <th>Tweets</th>\n",
       "      <th>len</th>\n",
       "      <th>ID</th>\n",
       "      <th>Date</th>\n",
       "      <th>Source</th>\n",
       "      <th>Likes</th>\n",
       "      <th>RTs</th>\n",
       "      <th>Language</th>\n",
       "      <th>SA</th>\n",
       "    </tr>\n",
       "  </thead>\n",
       "  <tbody>\n",
       "    <tr>\n",
       "      <td>0</td>\n",
       "      <td>RT @GitaSKapoor: Sikhs fought against Mughals ...</td>\n",
       "      <td>140</td>\n",
       "      <td>1193524654893236224</td>\n",
       "      <td>2019-11-10 13:43:46</td>\n",
       "      <td>Twitter for Android</td>\n",
       "      <td>0</td>\n",
       "      <td>1133</td>\n",
       "      <td>en</td>\n",
       "      <td>0</td>\n",
       "    </tr>\n",
       "    <tr>\n",
       "      <td>1</td>\n",
       "      <td>RT @mvmeet: Kashmiri youth Aakib Mir gives a b...</td>\n",
       "      <td>140</td>\n",
       "      <td>1193524648710770688</td>\n",
       "      <td>2019-11-10 13:43:45</td>\n",
       "      <td>Twitter for Android</td>\n",
       "      <td>0</td>\n",
       "      <td>87</td>\n",
       "      <td>en</td>\n",
       "      <td>0</td>\n",
       "    </tr>\n",
       "    <tr>\n",
       "      <td>2</td>\n",
       "      <td>RT @satishacharya: Ayodhya verdict! @sifydotco...</td>\n",
       "      <td>95</td>\n",
       "      <td>1193524648694046721</td>\n",
       "      <td>2019-11-10 13:43:45</td>\n",
       "      <td>Twitter for iPhone</td>\n",
       "      <td>0</td>\n",
       "      <td>332</td>\n",
       "      <td>in</td>\n",
       "      <td>0</td>\n",
       "    </tr>\n",
       "    <tr>\n",
       "      <td>3</td>\n",
       "      <td>RT @anshikashukla_: \"According to the Union Cu...</td>\n",
       "      <td>140</td>\n",
       "      <td>1193524646143938561</td>\n",
       "      <td>2019-11-10 13:43:44</td>\n",
       "      <td>Twitter for iPhone</td>\n",
       "      <td>0</td>\n",
       "      <td>48</td>\n",
       "      <td>en</td>\n",
       "      <td>1</td>\n",
       "    </tr>\n",
       "    <tr>\n",
       "      <td>4</td>\n",
       "      <td>RT @madhukishwar: Vadra Family run National He...</td>\n",
       "      <td>140</td>\n",
       "      <td>1193524645527343104</td>\n",
       "      <td>2019-11-10 13:43:44</td>\n",
       "      <td>Twitter for Android</td>\n",
       "      <td>0</td>\n",
       "      <td>673</td>\n",
       "      <td>en</td>\n",
       "      <td>0</td>\n",
       "    </tr>\n",
       "    <tr>\n",
       "      <td>5</td>\n",
       "      <td>RT @TimesNow: India hails unanimous Ayodhya ve...</td>\n",
       "      <td>144</td>\n",
       "      <td>1193524644067893250</td>\n",
       "      <td>2019-11-10 13:43:44</td>\n",
       "      <td>Twitter for Android</td>\n",
       "      <td>0</td>\n",
       "      <td>2</td>\n",
       "      <td>et</td>\n",
       "      <td>0</td>\n",
       "    </tr>\n",
       "    <tr>\n",
       "      <td>6</td>\n",
       "      <td>RT @_YogendraYadav: Faizan Mustafa, a law prof...</td>\n",
       "      <td>140</td>\n",
       "      <td>1193524643736408064</td>\n",
       "      <td>2019-11-10 13:43:44</td>\n",
       "      <td>Twitter for Android</td>\n",
       "      <td>0</td>\n",
       "      <td>2086</td>\n",
       "      <td>en</td>\n",
       "      <td>0</td>\n",
       "    </tr>\n",
       "    <tr>\n",
       "      <td>7</td>\n",
       "      <td>India doesn't need any new temple, church, mos...</td>\n",
       "      <td>122</td>\n",
       "      <td>1193524642104758272</td>\n",
       "      <td>2019-11-10 13:43:43</td>\n",
       "      <td>Twitter Web Client</td>\n",
       "      <td>0</td>\n",
       "      <td>0</td>\n",
       "      <td>en</td>\n",
       "      <td>1</td>\n",
       "    </tr>\n",
       "    <tr>\n",
       "      <td>8</td>\n",
       "      <td>RT @SirJadeja: ✅before Ayodhya verdict\\n\"I am ...</td>\n",
       "      <td>140</td>\n",
       "      <td>1193524641681162240</td>\n",
       "      <td>2019-11-10 13:43:43</td>\n",
       "      <td>Twitter for Android</td>\n",
       "      <td>0</td>\n",
       "      <td>804</td>\n",
       "      <td>in</td>\n",
       "      <td>0</td>\n",
       "    </tr>\n",
       "    <tr>\n",
       "      <td>9</td>\n",
       "      <td>RT @kapil73vats: I am a Hindu\\nI request Modi ...</td>\n",
       "      <td>140</td>\n",
       "      <td>1193524640968146944</td>\n",
       "      <td>2019-11-10 13:43:43</td>\n",
       "      <td>Twitter for Android</td>\n",
       "      <td>0</td>\n",
       "      <td>4</td>\n",
       "      <td>und</td>\n",
       "      <td>1</td>\n",
       "    </tr>\n",
       "  </tbody>\n",
       "</table>\n",
       "</div>"
      ],
      "text/plain": [
       "                                              Tweets  len  \\\n",
       "0  RT @GitaSKapoor: Sikhs fought against Mughals ...  140   \n",
       "1  RT @mvmeet: Kashmiri youth Aakib Mir gives a b...  140   \n",
       "2  RT @satishacharya: Ayodhya verdict! @sifydotco...   95   \n",
       "3  RT @anshikashukla_: \"According to the Union Cu...  140   \n",
       "4  RT @madhukishwar: Vadra Family run National He...  140   \n",
       "5  RT @TimesNow: India hails unanimous Ayodhya ve...  144   \n",
       "6  RT @_YogendraYadav: Faizan Mustafa, a law prof...  140   \n",
       "7  India doesn't need any new temple, church, mos...  122   \n",
       "8  RT @SirJadeja: ✅before Ayodhya verdict\\n\"I am ...  140   \n",
       "9  RT @kapil73vats: I am a Hindu\\nI request Modi ...  140   \n",
       "\n",
       "                    ID                Date               Source  Likes   RTs  \\\n",
       "0  1193524654893236224 2019-11-10 13:43:46  Twitter for Android      0  1133   \n",
       "1  1193524648710770688 2019-11-10 13:43:45  Twitter for Android      0    87   \n",
       "2  1193524648694046721 2019-11-10 13:43:45   Twitter for iPhone      0   332   \n",
       "3  1193524646143938561 2019-11-10 13:43:44   Twitter for iPhone      0    48   \n",
       "4  1193524645527343104 2019-11-10 13:43:44  Twitter for Android      0   673   \n",
       "5  1193524644067893250 2019-11-10 13:43:44  Twitter for Android      0     2   \n",
       "6  1193524643736408064 2019-11-10 13:43:44  Twitter for Android      0  2086   \n",
       "7  1193524642104758272 2019-11-10 13:43:43   Twitter Web Client      0     0   \n",
       "8  1193524641681162240 2019-11-10 13:43:43  Twitter for Android      0   804   \n",
       "9  1193524640968146944 2019-11-10 13:43:43  Twitter for Android      0     4   \n",
       "\n",
       "  Language  SA  \n",
       "0       en   0  \n",
       "1       en   0  \n",
       "2       in   0  \n",
       "3       en   1  \n",
       "4       en   0  \n",
       "5       et   0  \n",
       "6       en   0  \n",
       "7       en   1  \n",
       "8       in   0  \n",
       "9      und   1  "
      ]
     },
     "metadata": {},
     "output_type": "display_data"
    }
   ],
   "source": [
    "# We create a column with the result of the analysis:\n",
    "data['SA'] = np.array([ analize_sentiment(tweet) for tweet in data['Tweets'] ])\n",
    "\n",
    "# We display the updated dataframe with the new column:\n",
    "display(data.head(10))"
   ]
  },
  {
   "cell_type": "code",
   "execution_count": 21,
   "metadata": {},
   "outputs": [],
   "source": [
    "# We construct lists with classified tweets:\n",
    "\n",
    "pos_tweets = [ tweet for index, tweet in enumerate(data['Tweets']) if data['SA'][index] > 0]\n",
    "neu_tweets = [ tweet for index, tweet in enumerate(data['Tweets']) if data['SA'][index] == 0]\n",
    "neg_tweets = [ tweet for index, tweet in enumerate(data['Tweets']) if data['SA'][index] < 0]"
   ]
  },
  {
   "cell_type": "code",
   "execution_count": 22,
   "metadata": {},
   "outputs": [
    {
     "name": "stdout",
     "output_type": "stream",
     "text": [
      "Percentage of positive tweets: 34.0%\n",
      "Percentage of neutral tweets: 63.0%\n",
      "Percentage of negative tweets: 3.0%\n"
     ]
    }
   ],
   "source": [
    "# We print percentages:\n",
    "\n",
    "print(\"Percentage of positive tweets: {}%\".format(len(pos_tweets)*100/len(data['Tweets'])))\n",
    "print(\"Percentage of neutral tweets: {}%\".format(len(neu_tweets)*100/len(data['Tweets'])))\n",
    "print(\"Percentage of negative tweets: {}%\".format(len(neg_tweets)*100/len(data['Tweets'])))"
   ]
  },
  {
   "cell_type": "code",
   "execution_count": 23,
   "metadata": {},
   "outputs": [
    {
     "data": {
      "image/png": "[encoded data removed]",
      "text/plain": [
       "<Figure size 720x432 with 1 Axes>"
      ]
     },
     "metadata": {},
     "output_type": "display_data"
    }
   ],
   "source": [
    "\n",
    "# Data to plot\n",
    "labels = 'Positive Tweets', 'Neutral Tweets','Negative Tweets'\n",
    "sizes = [len(pos_tweets)*100/len(data['Tweets']), len(neu_tweets)*100/len(data['Tweets']), len(neg_tweets)*100/len(data['Tweets'])]\n",
    "colors = ['gold', 'yellowgreen', 'lightcoral']\n",
    "explode = (0.07, 0.07, 0.07)  # explode 1st slice\n",
    " \n",
    "# Plot\n",
    "plt.figure(figsize=(10,6))\n",
    "plt.pie(sizes, explode=explode, labels=labels, colors=colors,\n",
    "        autopct='%1.1f%%', shadow=True, startangle=140)\n",
    "plt.axis('equal')\n",
    "plt.show()"
   ]
  },
  {
   "cell_type": "code",
   "execution_count": null,
   "metadata": {},
   "outputs": [],
   "source": []
  },
  {
   "cell_type": "code",
   "execution_count": null,
   "metadata": {},
   "outputs": [],
   "source": []
  }
 ],
 "metadata": {
  "kernelspec": {
   "display_name": "Python 3",
   "language": "python",
   "name": "python3"
  },
  "language_info": {
   "codemirror_mode": {
    "name": "ipython",
    "version": 3
   },
   "file_extension": ".py",
   "mimetype": "text/x-python",
   "name": "python",
   "nbconvert_exporter": "python",
   "pygments_lexer": "ipython3",
   "version": "3.6.8"
  }
 },
 "nbformat": 4,
 "nbformat_minor": 2
}
